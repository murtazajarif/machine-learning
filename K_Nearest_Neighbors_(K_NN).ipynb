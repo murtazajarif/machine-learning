{
  "cells": [
    {
      "cell_type": "markdown",
      "id": "f32ebe47",
      "metadata": {
        "id": "f32ebe47"
      },
      "source": [
        "# LAB 5 : K-Nearest Neighbors (K-NN)"
      ]
    },
    {
      "cell_type": "markdown",
      "id": "e9adffad",
      "metadata": {
        "id": "e9adffad"
      },
      "source": [
        "## Importing the libraries"
      ]
    },
    {
      "cell_type": "code",
      "execution_count": 2,
      "id": "76008a3b",
      "metadata": {
        "id": "76008a3b"
      },
      "outputs": [],
      "source": [
        "import numpy as np\n",
        "import matplotlib.pyplot as plt\n",
        "import pandas as pd"
      ]
    },
    {
      "cell_type": "markdown",
      "id": "20138eb9",
      "metadata": {
        "id": "20138eb9"
      },
      "source": [
        "##  Importing the dataset"
      ]
    },
    {
      "cell_type": "code",
      "execution_count": 3,
      "id": "a2285f63",
      "metadata": {
        "id": "a2285f63"
      },
      "outputs": [],
      "source": [
        "url = \"https://archive.ics.uci.edu/ml/machine-learning-databases/iris/iris.data\"\n",
        "\n",
        "# Assign column names to the dataset\n",
        "names = ['sepal-length', 'sepal-width', 'petal-length', 'petal-width', 'Class']\n",
        "\n",
        "# Read dataset to pandas dataframe\n",
        "dataset = pd.read_csv(url, names=names)"
      ]
    },
    {
      "cell_type": "markdown",
      "id": "775251ce",
      "metadata": {
        "id": "775251ce"
      },
      "source": [
        "## Exploratory Data Analysis"
      ]
    },
    {
      "cell_type": "code",
      "execution_count": null,
      "id": "ef864fbb",
      "metadata": {
        "id": "ef864fbb",
        "outputId": "bcef41ee-9794-4c81-fd0e-85085c8be801"
      },
      "outputs": [
        {
          "data": {
            "text/plain": [
              "(150, 5)"
            ]
          },
          "execution_count": 3,
          "metadata": {},
          "output_type": "execute_result"
        }
      ],
      "source": [
        "dataset.shape"
      ]
    },
    {
      "cell_type": "code",
      "execution_count": null,
      "id": "b728fa3a",
      "metadata": {
        "id": "b728fa3a",
        "outputId": "41b397d8-1c8f-4d51-80fd-fbc171a8a273"
      },
      "outputs": [
        {
          "data": {
            "text/html": [
              "<div>\n",
              "<style scoped>\n",
              "    .dataframe tbody tr th:only-of-type {\n",
              "        vertical-align: middle;\n",
              "    }\n",
              "\n",
              "    .dataframe tbody tr th {\n",
              "        vertical-align: top;\n",
              "    }\n",
              "\n",
              "    .dataframe thead th {\n",
              "        text-align: right;\n",
              "    }\n",
              "</style>\n",
              "<table border=\"1\" class=\"dataframe\">\n",
              "  <thead>\n",
              "    <tr style=\"text-align: right;\">\n",
              "      <th></th>\n",
              "      <th>sepal-length</th>\n",
              "      <th>sepal-width</th>\n",
              "      <th>petal-length</th>\n",
              "      <th>petal-width</th>\n",
              "      <th>Class</th>\n",
              "    </tr>\n",
              "  </thead>\n",
              "  <tbody>\n",
              "    <tr>\n",
              "      <th>0</th>\n",
              "      <td>5.1</td>\n",
              "      <td>3.5</td>\n",
              "      <td>1.4</td>\n",
              "      <td>0.2</td>\n",
              "      <td>Iris-setosa</td>\n",
              "    </tr>\n",
              "    <tr>\n",
              "      <th>1</th>\n",
              "      <td>4.9</td>\n",
              "      <td>3.0</td>\n",
              "      <td>1.4</td>\n",
              "      <td>0.2</td>\n",
              "      <td>Iris-setosa</td>\n",
              "    </tr>\n",
              "    <tr>\n",
              "      <th>2</th>\n",
              "      <td>4.7</td>\n",
              "      <td>3.2</td>\n",
              "      <td>1.3</td>\n",
              "      <td>0.2</td>\n",
              "      <td>Iris-setosa</td>\n",
              "    </tr>\n",
              "    <tr>\n",
              "      <th>3</th>\n",
              "      <td>4.6</td>\n",
              "      <td>3.1</td>\n",
              "      <td>1.5</td>\n",
              "      <td>0.2</td>\n",
              "      <td>Iris-setosa</td>\n",
              "    </tr>\n",
              "    <tr>\n",
              "      <th>4</th>\n",
              "      <td>5.0</td>\n",
              "      <td>3.6</td>\n",
              "      <td>1.4</td>\n",
              "      <td>0.2</td>\n",
              "      <td>Iris-setosa</td>\n",
              "    </tr>\n",
              "  </tbody>\n",
              "</table>\n",
              "</div>"
            ],
            "text/plain": [
              "   sepal-length  sepal-width  petal-length  petal-width        Class\n",
              "0           5.1          3.5           1.4          0.2  Iris-setosa\n",
              "1           4.9          3.0           1.4          0.2  Iris-setosa\n",
              "2           4.7          3.2           1.3          0.2  Iris-setosa\n",
              "3           4.6          3.1           1.5          0.2  Iris-setosa\n",
              "4           5.0          3.6           1.4          0.2  Iris-setosa"
            ]
          },
          "execution_count": 4,
          "metadata": {},
          "output_type": "execute_result"
        }
      ],
      "source": [
        "dataset.head()"
      ]
    },
    {
      "cell_type": "code",
      "execution_count": null,
      "id": "69b58c21",
      "metadata": {
        "id": "69b58c21",
        "outputId": "17801ba4-19ff-46ae-b57d-f6cceaecb6fe"
      },
      "outputs": [
        {
          "name": "stdout",
          "output_type": "stream",
          "text": [
            "<class 'pandas.core.frame.DataFrame'>\n",
            "RangeIndex: 150 entries, 0 to 149\n",
            "Data columns (total 5 columns):\n",
            " #   Column        Non-Null Count  Dtype  \n",
            "---  ------        --------------  -----  \n",
            " 0   sepal-length  150 non-null    float64\n",
            " 1   sepal-width   150 non-null    float64\n",
            " 2   petal-length  150 non-null    float64\n",
            " 3   petal-width   150 non-null    float64\n",
            " 4   Class         150 non-null    object \n",
            "dtypes: float64(4), object(1)\n",
            "memory usage: 6.0+ KB\n"
          ]
        }
      ],
      "source": [
        "dataset.info()"
      ]
    },
    {
      "cell_type": "code",
      "execution_count": null,
      "id": "24405167",
      "metadata": {
        "id": "24405167",
        "outputId": "ba5f40dc-9bb8-4807-883b-978a2cc4422d"
      },
      "outputs": [
        {
          "data": {
            "text/html": [
              "<div>\n",
              "<style scoped>\n",
              "    .dataframe tbody tr th:only-of-type {\n",
              "        vertical-align: middle;\n",
              "    }\n",
              "\n",
              "    .dataframe tbody tr th {\n",
              "        vertical-align: top;\n",
              "    }\n",
              "\n",
              "    .dataframe thead th {\n",
              "        text-align: right;\n",
              "    }\n",
              "</style>\n",
              "<table border=\"1\" class=\"dataframe\">\n",
              "  <thead>\n",
              "    <tr style=\"text-align: right;\">\n",
              "      <th></th>\n",
              "      <th>sepal-length</th>\n",
              "      <th>sepal-width</th>\n",
              "      <th>petal-length</th>\n",
              "      <th>petal-width</th>\n",
              "    </tr>\n",
              "  </thead>\n",
              "  <tbody>\n",
              "    <tr>\n",
              "      <th>count</th>\n",
              "      <td>150.000000</td>\n",
              "      <td>150.000000</td>\n",
              "      <td>150.000000</td>\n",
              "      <td>150.000000</td>\n",
              "    </tr>\n",
              "    <tr>\n",
              "      <th>mean</th>\n",
              "      <td>5.843333</td>\n",
              "      <td>3.054000</td>\n",
              "      <td>3.758667</td>\n",
              "      <td>1.198667</td>\n",
              "    </tr>\n",
              "    <tr>\n",
              "      <th>std</th>\n",
              "      <td>0.828066</td>\n",
              "      <td>0.433594</td>\n",
              "      <td>1.764420</td>\n",
              "      <td>0.763161</td>\n",
              "    </tr>\n",
              "    <tr>\n",
              "      <th>min</th>\n",
              "      <td>4.300000</td>\n",
              "      <td>2.000000</td>\n",
              "      <td>1.000000</td>\n",
              "      <td>0.100000</td>\n",
              "    </tr>\n",
              "    <tr>\n",
              "      <th>25%</th>\n",
              "      <td>5.100000</td>\n",
              "      <td>2.800000</td>\n",
              "      <td>1.600000</td>\n",
              "      <td>0.300000</td>\n",
              "    </tr>\n",
              "    <tr>\n",
              "      <th>50%</th>\n",
              "      <td>5.800000</td>\n",
              "      <td>3.000000</td>\n",
              "      <td>4.350000</td>\n",
              "      <td>1.300000</td>\n",
              "    </tr>\n",
              "    <tr>\n",
              "      <th>75%</th>\n",
              "      <td>6.400000</td>\n",
              "      <td>3.300000</td>\n",
              "      <td>5.100000</td>\n",
              "      <td>1.800000</td>\n",
              "    </tr>\n",
              "    <tr>\n",
              "      <th>max</th>\n",
              "      <td>7.900000</td>\n",
              "      <td>4.400000</td>\n",
              "      <td>6.900000</td>\n",
              "      <td>2.500000</td>\n",
              "    </tr>\n",
              "  </tbody>\n",
              "</table>\n",
              "</div>"
            ],
            "text/plain": [
              "       sepal-length  sepal-width  petal-length  petal-width\n",
              "count    150.000000   150.000000    150.000000   150.000000\n",
              "mean       5.843333     3.054000      3.758667     1.198667\n",
              "std        0.828066     0.433594      1.764420     0.763161\n",
              "min        4.300000     2.000000      1.000000     0.100000\n",
              "25%        5.100000     2.800000      1.600000     0.300000\n",
              "50%        5.800000     3.000000      4.350000     1.300000\n",
              "75%        6.400000     3.300000      5.100000     1.800000\n",
              "max        7.900000     4.400000      6.900000     2.500000"
            ]
          },
          "execution_count": 6,
          "metadata": {},
          "output_type": "execute_result"
        }
      ],
      "source": [
        "dataset.describe()"
      ]
    },
    {
      "cell_type": "code",
      "execution_count": null,
      "id": "d7144466",
      "metadata": {
        "id": "d7144466",
        "outputId": "68ebbf2a-92c9-4ae9-b92a-f9c2bf7c7f98"
      },
      "outputs": [
        {
          "data": {
            "text/plain": [
              "Class\n",
              "Iris-setosa        50\n",
              "Iris-versicolor    50\n",
              "Iris-virginica     50\n",
              "dtype: int64"
            ]
          },
          "execution_count": 7,
          "metadata": {},
          "output_type": "execute_result"
        }
      ],
      "source": [
        "dataset.groupby('Class').size()"
      ]
    },
    {
      "cell_type": "markdown",
      "id": "d1cb7e52",
      "metadata": {
        "id": "d1cb7e52"
      },
      "source": [
        "## Data Preprocessing"
      ]
    },
    {
      "cell_type": "code",
      "execution_count": 7,
      "id": "dc4247f7",
      "metadata": {
        "id": "dc4247f7"
      },
      "outputs": [],
      "source": [
        "X = dataset.iloc[:, :-1].values\n",
        "y = dataset.iloc[:, -1].values\n"
      ]
    },
    {
      "cell_type": "markdown",
      "id": "b8036af5",
      "metadata": {
        "id": "b8036af5"
      },
      "source": [
        "## Splitting the dataset into the Training set and Test set"
      ]
    },
    {
      "cell_type": "code",
      "execution_count": null,
      "id": "f18c71a6",
      "metadata": {
        "id": "f18c71a6"
      },
      "outputs": [],
      "source": [
        "from sklearn.model_selection import train_test_split\n",
        "X_train, X_test, y_train, y_test = train_test_split(X, y, test_size=0.20,\n",
        "                                                    random_state = 5)"
      ]
    },
    {
      "cell_type": "code",
      "execution_count": null,
      "id": "ba0182b1",
      "metadata": {
        "id": "ba0182b1",
        "outputId": "d6ca3d78-263f-4e34-e30b-8d4a016b7b84"
      },
      "outputs": [
        {
          "name": "stdout",
          "output_type": "stream",
          "text": [
            "(120, 4) (30, 4)\n",
            "(120,) (30,)\n"
          ]
        }
      ],
      "source": [
        "print(X_train.shape, X_test.shape)\n",
        "print(y_train.shape, y_test.shape)"
      ]
    },
    {
      "cell_type": "markdown",
      "id": "47395919",
      "metadata": {
        "id": "47395919"
      },
      "source": [
        "## Feature Scaling"
      ]
    },
    {
      "cell_type": "code",
      "execution_count": null,
      "id": "bb340e71",
      "metadata": {
        "id": "bb340e71"
      },
      "outputs": [],
      "source": [
        "from sklearn.preprocessing import StandardScaler\n",
        "sc = StandardScaler()\n",
        "sc.fit(X_train)\n",
        "X_train = sc.transform(X_train)\n",
        "X_test = sc.transform(X_test)"
      ]
    },
    {
      "cell_type": "code",
      "execution_count": null,
      "id": "f2e9a8f9",
      "metadata": {
        "id": "f2e9a8f9",
        "outputId": "99880080-2c67-4a12-b081-351834615875"
      },
      "outputs": [
        {
          "name": "stdout",
          "output_type": "stream",
          "text": [
            "(120, 4) (30, 4)\n"
          ]
        }
      ],
      "source": [
        "print(X_train.shape, X_test.shape)"
      ]
    },
    {
      "cell_type": "markdown",
      "id": "59b22655",
      "metadata": {
        "id": "59b22655"
      },
      "source": [
        "## Training the K-NN model on the Training set"
      ]
    },
    {
      "cell_type": "code",
      "execution_count": null,
      "id": "215496bc",
      "metadata": {
        "id": "215496bc",
        "outputId": "dbd3663c-47c4-4663-ca47-e7de445ec1ee"
      },
      "outputs": [
        {
          "data": {
            "text/html": [
              "<style>#sk-container-id-1 {color: black;background-color: white;}#sk-container-id-1 pre{padding: 0;}#sk-container-id-1 div.sk-toggleable {background-color: white;}#sk-container-id-1 label.sk-toggleable__label {cursor: pointer;display: block;width: 100%;margin-bottom: 0;padding: 0.3em;box-sizing: border-box;text-align: center;}#sk-container-id-1 label.sk-toggleable__label-arrow:before {content: \"▸\";float: left;margin-right: 0.25em;color: #696969;}#sk-container-id-1 label.sk-toggleable__label-arrow:hover:before {color: black;}#sk-container-id-1 div.sk-estimator:hover label.sk-toggleable__label-arrow:before {color: black;}#sk-container-id-1 div.sk-toggleable__content {max-height: 0;max-width: 0;overflow: hidden;text-align: left;background-color: #f0f8ff;}#sk-container-id-1 div.sk-toggleable__content pre {margin: 0.2em;color: black;border-radius: 0.25em;background-color: #f0f8ff;}#sk-container-id-1 input.sk-toggleable__control:checked~div.sk-toggleable__content {max-height: 200px;max-width: 100%;overflow: auto;}#sk-container-id-1 input.sk-toggleable__control:checked~label.sk-toggleable__label-arrow:before {content: \"▾\";}#sk-container-id-1 div.sk-estimator input.sk-toggleable__control:checked~label.sk-toggleable__label {background-color: #d4ebff;}#sk-container-id-1 div.sk-label input.sk-toggleable__control:checked~label.sk-toggleable__label {background-color: #d4ebff;}#sk-container-id-1 input.sk-hidden--visually {border: 0;clip: rect(1px 1px 1px 1px);clip: rect(1px, 1px, 1px, 1px);height: 1px;margin: -1px;overflow: hidden;padding: 0;position: absolute;width: 1px;}#sk-container-id-1 div.sk-estimator {font-family: monospace;background-color: #f0f8ff;border: 1px dotted black;border-radius: 0.25em;box-sizing: border-box;margin-bottom: 0.5em;}#sk-container-id-1 div.sk-estimator:hover {background-color: #d4ebff;}#sk-container-id-1 div.sk-parallel-item::after {content: \"\";width: 100%;border-bottom: 1px solid gray;flex-grow: 1;}#sk-container-id-1 div.sk-label:hover label.sk-toggleable__label {background-color: #d4ebff;}#sk-container-id-1 div.sk-serial::before {content: \"\";position: absolute;border-left: 1px solid gray;box-sizing: border-box;top: 0;bottom: 0;left: 50%;z-index: 0;}#sk-container-id-1 div.sk-serial {display: flex;flex-direction: column;align-items: center;background-color: white;padding-right: 0.2em;padding-left: 0.2em;position: relative;}#sk-container-id-1 div.sk-item {position: relative;z-index: 1;}#sk-container-id-1 div.sk-parallel {display: flex;align-items: stretch;justify-content: center;background-color: white;position: relative;}#sk-container-id-1 div.sk-item::before, #sk-container-id-1 div.sk-parallel-item::before {content: \"\";position: absolute;border-left: 1px solid gray;box-sizing: border-box;top: 0;bottom: 0;left: 50%;z-index: -1;}#sk-container-id-1 div.sk-parallel-item {display: flex;flex-direction: column;z-index: 1;position: relative;background-color: white;}#sk-container-id-1 div.sk-parallel-item:first-child::after {align-self: flex-end;width: 50%;}#sk-container-id-1 div.sk-parallel-item:last-child::after {align-self: flex-start;width: 50%;}#sk-container-id-1 div.sk-parallel-item:only-child::after {width: 0;}#sk-container-id-1 div.sk-dashed-wrapped {border: 1px dashed gray;margin: 0 0.4em 0.5em 0.4em;box-sizing: border-box;padding-bottom: 0.4em;background-color: white;}#sk-container-id-1 div.sk-label label {font-family: monospace;font-weight: bold;display: inline-block;line-height: 1.2em;}#sk-container-id-1 div.sk-label-container {text-align: center;}#sk-container-id-1 div.sk-container {/* jupyter's `normalize.less` sets `[hidden] { display: none; }` but bootstrap.min.css set `[hidden] { display: none !important; }` so we also need the `!important` here to be able to override the default hidden behavior on the sphinx rendered scikit-learn.org. See: https://github.com/scikit-learn/scikit-learn/issues/21755 */display: inline-block !important;position: relative;}#sk-container-id-1 div.sk-text-repr-fallback {display: none;}</style><div id=\"sk-container-id-1\" class=\"sk-top-container\"><div class=\"sk-text-repr-fallback\"><pre>KNeighborsClassifier(n_neighbors=10)</pre><b>In a Jupyter environment, please rerun this cell to show the HTML representation or trust the notebook. <br />On GitHub, the HTML representation is unable to render, please try loading this page with nbviewer.org.</b></div><div class=\"sk-container\" hidden><div class=\"sk-item\"><div class=\"sk-estimator sk-toggleable\"><input class=\"sk-toggleable__control sk-hidden--visually\" id=\"sk-estimator-id-1\" type=\"checkbox\" checked><label for=\"sk-estimator-id-1\" class=\"sk-toggleable__label sk-toggleable__label-arrow\">KNeighborsClassifier</label><div class=\"sk-toggleable__content\"><pre>KNeighborsClassifier(n_neighbors=10)</pre></div></div></div></div></div>"
            ],
            "text/plain": [
              "KNeighborsClassifier(n_neighbors=10)"
            ]
          },
          "execution_count": 13,
          "metadata": {},
          "output_type": "execute_result"
        }
      ],
      "source": [
        "from sklearn.neighbors import KNeighborsClassifier\n",
        "classifier = KNeighborsClassifier(n_neighbors=10,p=2,metric='minkowski')\n",
        "classifier.fit(X_train,y_train)"
      ]
    },
    {
      "cell_type": "markdown",
      "id": "bb78de9b",
      "metadata": {
        "id": "bb78de9b"
      },
      "source": [
        "##  Predicting the Test set results"
      ]
    },
    {
      "cell_type": "code",
      "execution_count": null,
      "id": "c403f046",
      "metadata": {
        "id": "c403f046",
        "outputId": "77c31b79-25fe-4905-b991-46664e275414"
      },
      "outputs": [
        {
          "name": "stdout",
          "output_type": "stream",
          "text": [
            "(30,) (30,)\n"
          ]
        }
      ],
      "source": [
        "y_pred = classifier.predict(X_test)\n",
        "print(y_pred.shape,y_test.shape)"
      ]
    },
    {
      "cell_type": "markdown",
      "id": "500d2a19",
      "metadata": {
        "id": "500d2a19"
      },
      "source": [
        "## Evaluating the Algorithm"
      ]
    },
    {
      "cell_type": "markdown",
      "id": "74a0b203",
      "metadata": {
        "id": "74a0b203"
      },
      "source": [
        "### Making the Confusion Matrix & Predicting Accuracy Score"
      ]
    },
    {
      "cell_type": "code",
      "execution_count": null,
      "id": "59397782",
      "metadata": {
        "id": "59397782",
        "outputId": "a93a498e-51fd-472e-b64b-d0dcd36d809e"
      },
      "outputs": [
        {
          "name": "stdout",
          "output_type": "stream",
          "text": [
            "[[ 8  0  0]\n",
            " [ 0 11  0]\n",
            " [ 0  1 10]]\n",
            "Accuracy of the model is 96.67 %.\n"
          ]
        }
      ],
      "source": [
        "from sklearn.metrics import confusion_matrix, accuracy_score\n",
        "cm = confusion_matrix(y_test,y_pred)\n",
        "print(cm)\n",
        "accuracy = accuracy_score(y_test, y_pred)*100\n",
        "print('Accuracy of the model is ' + str(round(accuracy, 2)) + ' %.')"
      ]
    },
    {
      "cell_type": "markdown",
      "id": "9b33f38a",
      "metadata": {
        "id": "9b33f38a"
      },
      "source": [
        "### Making Classification Report"
      ]
    },
    {
      "cell_type": "code",
      "execution_count": null,
      "id": "187c7558",
      "metadata": {
        "id": "187c7558",
        "outputId": "26340cbb-3a56-43b9-86e4-193802f71498"
      },
      "outputs": [
        {
          "name": "stdout",
          "output_type": "stream",
          "text": [
            "                 precision    recall  f1-score   support\n",
            "\n",
            "    Iris-setosa       1.00      1.00      1.00         8\n",
            "Iris-versicolor       0.92      1.00      0.96        11\n",
            " Iris-virginica       1.00      0.91      0.95        11\n",
            "\n",
            "       accuracy                           0.97        30\n",
            "      macro avg       0.97      0.97      0.97        30\n",
            "   weighted avg       0.97      0.97      0.97        30\n",
            "\n"
          ]
        }
      ],
      "source": [
        "from sklearn.metrics import classification_report\n",
        "print(classification_report(y_test, y_pred))"
      ]
    },
    {
      "cell_type": "markdown",
      "id": "e49c2cc5",
      "metadata": {
        "id": "e49c2cc5"
      },
      "source": [
        "# Comparing Error Rate with the K Value"
      ]
    },
    {
      "cell_type": "markdown",
      "id": "6efaab74",
      "metadata": {
        "id": "6efaab74"
      },
      "source": [
        "## Parameter Tuning"
      ]
    },
    {
      "cell_type": "markdown",
      "id": "1cd8870f",
      "metadata": {
        "id": "1cd8870f"
      },
      "source": [
        "### Using Cross-validation for parameter tuning:"
      ]
    },
    {
      "cell_type": "code",
      "execution_count": null,
      "id": "25042446",
      "metadata": {
        "id": "25042446"
      },
      "outputs": [],
      "source": [
        "from sklearn.model_selection import cross_val_score\n",
        "# creating list of K for KNN\n",
        "k_list = list(range(1,50))\n",
        "# creating list of cv scores\n",
        "cv_scores = []\n",
        "# perform 10-fold cross validation\n",
        "for k in k_list:\n",
        "    knn = KNeighborsClassifier(n_neighbors=k)\n",
        "    scores = cross_val_score(knn, X_train, y_train, cv=10, scoring='accuracy')\n",
        "    cv_scores.append(scores.mean())"
      ]
    },
    {
      "cell_type": "markdown",
      "id": "88bc3a00",
      "metadata": {
        "id": "88bc3a00"
      },
      "source": [
        "### Plot the error values against K values"
      ]
    },
    {
      "cell_type": "code",
      "execution_count": null,
      "id": "6191ab83",
      "metadata": {
        "id": "6191ab83",
        "outputId": "621842be-9eef-47ea-f556-e83490b4c20a"
      },
      "outputs": [
        {
          "data": {
            "text/plain": [
              "<Figure size 640x480 with 0 Axes>"
            ]
          },
          "metadata": {},
          "output_type": "display_data"
        },
        {
          "data": {
            "image/png": "[encoded data removed]",
            "text/plain": [
              "<Figure size 1500x1000 with 1 Axes>"
            ]
          },
          "metadata": {},
          "output_type": "display_data"
        }
      ],
      "source": [
        "import seaborn as sns\n",
        "# changing to misclassification error\n",
        "MSE = [1-x for x in cv_scores]\n",
        "plt.figure()\n",
        "plt.figure(figsize=(15,10))\n",
        "plt.title('The optimal number of neighbors', fontsize=20, fontweight='bold')\n",
        "plt.xlabel('Number of Neighbors K', fontsize=15)\n",
        "plt.ylabel('Misclassification Error', fontsize=15)\n",
        "sns.set_style(\"whitegrid\")\n",
        "plt.plot(k_list, MSE)\n",
        "plt.show()"
      ]
    },
    {
      "cell_type": "markdown",
      "id": "1e375c30",
      "metadata": {
        "id": "1e375c30"
      },
      "source": [
        "### Finding best 'k'"
      ]
    },
    {
      "cell_type": "code",
      "execution_count": null,
      "id": "dd221b8d",
      "metadata": {
        "id": "dd221b8d",
        "outputId": "cf9c02c1-1a03-4765-82f0-96baaf31b2a0"
      },
      "outputs": [
        {
          "name": "stdout",
          "output_type": "stream",
          "text": [
            "The optimal number of neighbors is 10.\n"
          ]
        }
      ],
      "source": [
        "best_k = k_list[MSE.index(min(MSE))]\n",
        "print(\"The optimal number of neighbors is %d.\" % best_k)"
      ]
    },
    {
      "cell_type": "markdown",
      "id": "7975fe9f",
      "metadata": {
        "id": "7975fe9f"
      },
      "source": [
        "# Visualize Test Result of KNN"
      ]
    },
    {
      "cell_type": "code",
      "execution_count": null,
      "id": "2ef46ac0",
      "metadata": {
        "id": "2ef46ac0",
        "outputId": "4c293117-feec-463b-b6a4-fc2b1790b20b"
      },
      "outputs": [
        {
          "name": "stderr",
          "output_type": "stream",
          "text": [
            "C:\\Users\\Juzar\\AppData\\Local\\Temp\\ipykernel_19332\\3378814307.py:10: UserWarning: *c* argument looks like a single numeric RGB or RGBA sequence, which should be avoided as value-mapping will have precedence in case its length matches with *x* & *y*.  Please use the *color* keyword-argument or provide a 2D array with a single row if you intend to specify the same RGB or RGBA value for all points.\n",
            "  plt.scatter(x=X[y == cl, 0], y=X[y == cl, 1],c=cmap(idx),\n"
          ]
        },
        {
          "data": {
            "image/png": "[encoded data removed]",
            "text/plain": [
              "<Figure size 640x480 with 1 Axes>"
            ]
          },
          "metadata": {},
          "output_type": "display_data"
        }
      ],
      "source": [
        "from matplotlib.colors import ListedColormap\n",
        "from matplotlib.axes._axes import _log as matplotlib_axes_logger\n",
        "matplotlib_axes_logger.setLevel('ERROR')\n",
        "\n",
        "markers = ('s', 'x', 'o')\n",
        "colors = ('red', 'blue', 'black')\n",
        "cmap = ListedColormap(colors[:len(np.unique(y_test))])\n",
        "\n",
        "for idx, cl in enumerate(np.unique(y)):\n",
        "    plt.scatter(x=X[y == cl, 0], y=X[y == cl, 1],c=cmap(idx),\n",
        "                marker=markers[idx], label=cl)"
      ]
    },
    {
      "cell_type": "code",
      "execution_count": null,
      "id": "707b0824",
      "metadata": {
        "id": "707b0824"
      },
      "outputs": [],
      "source": []
    }
  ],
  "metadata": {
    "kernelspec": {
      "display_name": "Python 3 (ipykernel)",
      "language": "python",
      "name": "python3"
    },
    "language_info": {
      "codemirror_mode": {
        "name": "ipython",
        "version": 3
      },
      "file_extension": ".py",
      "mimetype": "text/x-python",
      "name": "python",
      "nbconvert_exporter": "python",
      "pygments_lexer": "ipython3",
      "version": "3.11.3"
    },
    "colab": {
      "provenance": []
    }
  },
  "nbformat": 4,
  "nbformat_minor": 5
}